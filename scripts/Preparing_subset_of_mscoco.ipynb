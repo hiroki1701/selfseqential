{
 "cells": [
  {
   "cell_type": "code",
   "execution_count": 4,
   "metadata": {
    "collapsed": false
   },
   "outputs": [],
   "source": [
    "import sys\n",
    "sys.path.append('/home/nakamura/project/python3_selfsequential/vg')\n",
    "import visual_genome.local as vg\n",
    "dir = '/mnt/poplin/share/dataset/visualgenome'\n",
    "all_images = vg.get_all_image_data(dir)\n",
    "all_discriptions = vg.get_all_region_descriptions(dir)"
   ]
  },
  {
   "cell_type": "code",
   "execution_count": 5,
   "metadata": {
    "collapsed": true
   },
   "outputs": [],
   "source": [
    "import sys\n",
    "\n",
    "import matplotlib.pyplot as plt\n",
    "from matplotlib.patches import Rectangle\n",
    "from visual_genome import api\n",
    "from PIL import Image as PIL_Image\n",
    "import requests\n",
    "import pdb\n",
    "import numpy as np\n",
    "import json"
   ]
  },
  {
   "cell_type": "markdown",
   "metadata": {},
   "source": [
    "#### Preparig subset of \"cocotalk.json\""
   ]
  },
  {
   "cell_type": "code",
   "execution_count": 7,
   "metadata": {
    "collapsed": false
   },
   "outputs": [],
   "source": [
    "f = open('/mnt/poplin/share/dataset/MSCOCO/cocotalk.json', 'r')\n",
    "info_2 = json.load(f)"
   ]
  },
  {
   "cell_type": "code",
   "execution_count": 10,
   "metadata": {
    "collapsed": false
   },
   "outputs": [
    {
     "data": {
      "text/plain": [
       "dict_keys(['images', 'ix_to_word'])"
      ]
     },
     "execution_count": 10,
     "metadata": {},
     "output_type": "execute_result"
    }
   ],
   "source": [
    "info_2.keys()"
   ]
  },
  {
   "cell_type": "code",
   "execution_count": 11,
   "metadata": {
    "collapsed": true
   },
   "outputs": [],
   "source": [
    "info = {}\n",
    "info['ix_to_word'] = info_2['ix_to_word']\n",
    "info['images'] = []"
   ]
  },
  {
   "cell_type": "code",
   "execution_count": 13,
   "metadata": {
    "collapsed": false
   },
   "outputs": [
    {
     "data": {
      "text/plain": [
       "{'file_path': 'val2014/COCO_val2014_000000391895.jpg',\n",
       " 'height': 360,\n",
       " 'id': 391895,\n",
       " 'split': 'test',\n",
       " 'width': 640}"
      ]
     },
     "execution_count": 13,
     "metadata": {},
     "output_type": "execute_result"
    }
   ],
   "source": [
    "info_2['images'][0]"
   ]
  },
  {
   "cell_type": "code",
   "execution_count": 40,
   "metadata": {
    "collapsed": true
   },
   "outputs": [],
   "source": [
    "# check data included in both MSCOCO and Visual genome\n",
    "info['images'] = []\n",
    "for img in all_images:\n",
    "    if img.coco_id is not None:\n",
    "        for vg_img in info_2['images']:\n",
    "            if img.coco_id == vg_img['id']:\n",
    "                info['images'].append(vg_img)\n",
    "                break"
   ]
  },
  {
   "cell_type": "code",
   "execution_count": 41,
   "metadata": {
    "collapsed": false
   },
   "outputs": [],
   "source": [
    "json.dump(info, open('/mnt/poplin/share/dataset/MSCOCO/cocotalk_subset.json', 'w'))"
   ]
  },
  {
   "cell_type": "code",
   "execution_count": null,
   "metadata": {
    "collapsed": true
   },
   "outputs": [],
   "source": []
  },
  {
   "cell_type": "code",
   "execution_count": 50,
   "metadata": {
    "collapsed": true
   },
   "outputs": [],
   "source": [
    "f = open('/home/nakamura/project/self_seqential/data/dataset_coco.json', 'r')\n",
    "info_base = json.load(f)"
   ]
  },
  {
   "cell_type": "code",
   "execution_count": 64,
   "metadata": {
    "collapsed": false
   },
   "outputs": [],
   "source": [
    "info = {}\n",
    "info['dataset'] = 'subset of coco'\n",
    "info['images'] = []"
   ]
  },
  {
   "cell_type": "code",
   "execution_count": 61,
   "metadata": {
    "collapsed": false
   },
   "outputs": [
    {
     "data": {
      "text/plain": [
       "'coco'"
      ]
     },
     "execution_count": 61,
     "metadata": {},
     "output_type": "execute_result"
    }
   ],
   "source": []
  },
  {
   "cell_type": "code",
   "execution_count": 65,
   "metadata": {
    "collapsed": false
   },
   "outputs": [],
   "source": [
    "for i, img in enumerate(info_base['images']):\n",
    "    for j , vg_img in enumerate(all_images):\n",
    "        if img['cocoid'] == vg_img.coco_id:\n",
    "            info['images'].append(img)"
   ]
  },
  {
   "cell_type": "code",
   "execution_count": 66,
   "metadata": {
    "collapsed": true
   },
   "outputs": [],
   "source": [
    "json.dump(info, open('/home/nakamura/project/self_seqential/data/dataset_subset_mscoco.json', 'w'))"
   ]
  },
  {
   "cell_type": "markdown",
   "metadata": {},
   "source": [
    "### Prepare dataset for vg"
   ]
  },
  {
   "cell_type": "code",
   "execution_count": 47,
   "metadata": {
    "collapsed": true
   },
   "outputs": [],
   "source": [
    "info_vg = {}\n",
    "info_vg['ix_to_word'] = info_2['ix_to_word']\n",
    "info_vg['images'] = []"
   ]
  },
  {
   "cell_type": "code",
   "execution_count": 49,
   "metadata": {
    "collapsed": false
   },
   "outputs": [
    {
     "data": {
      "text/plain": [
       "id: 1382, x: 421, y: 57, width: 82,height: 139, phrase: the clock is green in colour, image: 1"
      ]
     },
     "execution_count": 49,
     "metadata": {},
     "output_type": "execute_result"
    }
   ],
   "source": [
    "all_discriptions[0][0]"
   ]
  },
  {
   "cell_type": "code",
   "execution_count": null,
   "metadata": {
    "collapsed": true
   },
   "outputs": [],
   "source": [
    "info['images'] = []\n",
    "for i, img in enumerate(all_images):\n",
    "    if img.coco_id is not None:\n",
    "        for vg_img in info_2['images']:\n",
    "            if img.coco_id == vg_img['id']:\n",
    "                info['images'].append(vg_img)\n",
    "                break"
   ]
  }
 ],
 "metadata": {
  "kernelspec": {
   "display_name": "Python 3",
   "language": "python",
   "name": "python3"
  },
  "language_info": {
   "codemirror_mode": {
    "name": "ipython",
    "version": 3
   },
   "file_extension": ".py",
   "mimetype": "text/x-python",
   "name": "python",
   "nbconvert_exporter": "python",
   "pygments_lexer": "ipython3",
   "version": "3.6.8"
  }
 },
 "nbformat": 4,
 "nbformat_minor": 2
}
